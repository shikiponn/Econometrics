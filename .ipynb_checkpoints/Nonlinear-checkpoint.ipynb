{
 "cells": [
  {
   "cell_type": "markdown",
   "metadata": {},
   "source": [
    "## ノンリニア"
   ]
  },
  {
   "cell_type": "markdown",
   "metadata": {},
   "source": [
    "今までのモデルはパラメータに関して線形だった　　\n",
    "\n",
    "最尤推定  \n",
    "二項選択  \n",
    "多項選択  \n",
    "トービット二種類\n",
    "サンプルセレクション ヘックマンの二段階推定"
   ]
  },
  {
   "cell_type": "markdown",
   "metadata": {},
   "source": [
    "### 最尤法\n",
    "\n",
    "誤差項の分布の過程が必要\n",
    "\n",
    "### トービット\n",
    "\n",
    "検閲(cesoured)と切断(trancated)の二種類  \n",
    "olsは不均一分散でも不偏で一致だったがトービットは誤差項に正規生の仮定が満たされない場合、満たされても不均一分散なら最尤推定量は一致性を持たない。撹乱項ぼ分布が間違っているなら尤度関数自体が間違っているからである。\n",
    "\n",
    "### サンプルセレクション\n",
    "\n",
    "従属変数が一定の・＿＿メカニズムで切断されること「\n",
    "トービットは従属変数の一部がゼロの場合、しかし全ての場合にトービットが適用できるわけではない。市場賃銀が留保賃銀より高くても育児等で市場に出ない人について賃銀をゼロとしてしまうから。\n"
   ]
  },
  {
   "cell_type": "markdown",
   "metadata": {
    "collapsed": true
   },
   "source": [
    "## 極値推定（Extremum estimatour）\n",
    "\n",
    "https://www.google.co.jp/webhp?sourceid=chrome-instant&ion=1&espv=2&ie=UTF-8#q=extremum+estimator+%E4%B8%80%E8%87%B4%E6%80%A7  \n",
    "https://www.google.co.jp/search?q=%E6%BC%B8%E8%BF%91+%E6%9C%80%E5%B0%A4%E6%8E%A8%E5%AE%9A&oq=%E6%BC%B8%E8%BF%91%E3%80%80%E6%9C%80%E5%B0%A4%E6%8E%A8%E5%AE%9A&aqs=chrome..69i57.7066j0j7&sourceid=chrome&es_sm=91&ie=UTF-8\n",
    "\n",
    "標本を用いて母集団のパラメータを推定するのに残差二乗和を最小化するOLSを使っていたが、推定方法はOLSをだけに限らない。  \n",
    "推定するパラメータを$\\theta$、そのと取りうる範囲（パラメータ空間）を$\\Theta$とする。この時$\\Theta$の範囲で$\\theta$の何らかの関数$Q_n(\\theta)$を最大化する$\\hat{\\theta}$を推定量とするものを極値推定と呼ぶ。  \n",
    "GMMもOLSもM推定量も極値推定量の特殊形である。\n",
    "\n",
    "\n",
    "\n",
    "一様収束と連続性  \n",
    "https://www.google.co.jp/webhp?sourceid=chrome-instant&ion=1&espv=2&ie=UTF-8#q=%E4%B8%80%E6%A7%98%E5%8F%8E%E6%9D%9F\n",
    "\n"
   ]
  },
  {
   "cell_type": "code",
   "execution_count": null,
   "metadata": {
    "collapsed": true
   },
   "outputs": [],
   "source": []
  }
 ],
 "metadata": {
  "kernelspec": {
   "display_name": "Python 3",
   "language": "python",
   "name": "python3"
  },
  "language_info": {
   "codemirror_mode": {
    "name": "ipython",
    "version": 3
   },
   "file_extension": ".py",
   "mimetype": "text/x-python",
   "name": "python",
   "nbconvert_exporter": "python",
   "pygments_lexer": "ipython3",
   "version": "3.4.3"
  }
 },
 "nbformat": 4,
 "nbformat_minor": 0
}
