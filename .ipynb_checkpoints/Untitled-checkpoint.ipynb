{
 "cells": [
  {
   "cell_type": "markdown",
   "metadata": {},
   "source": [
    "### (d)"
   ]
  },
  {
   "cell_type": "code",
   "execution_count": 58,
   "metadata": {
    "collapsed": true
   },
   "outputs": [],
   "source": [
    "library(mvtnorm)"
   ]
  },
  {
   "cell_type": "code",
   "execution_count": 99,
   "metadata": {
    "collapsed": false
   },
   "outputs": [],
   "source": [
    "n =1000\n",
    "set.seed(10)\n",
    "mu = c(0, 0, 0)\n",
    "A <- array(c(1, 0.5, 0.5, 0.5, 1,  0.5, 0.5, 0.5, 1 ), dim=c(3,3))\n",
    "w = rmvnorm(n, mu, A)\n",
    "u0 = w[,1]\n",
    "u1 = w[,2]\n",
    "v = w[,3]\n",
    "\n",
    "x = rbinom(n = 1000, size = 1, prob = 0.5)\n",
    "y0 = 1 + x + u0\n",
    "y1 = 2 + x + u1\n",
    "\n",
    "xv = x+v\n",
    "indicator<-function(val) ifelse(val>0,1,0)\n",
    "d = indicator(xv)\n",
    "y=d*y1 + (1-d)*y0"
   ]
  },
  {
   "cell_type": "code",
   "execution_count": 100,
   "metadata": {
    "collapsed": false
   },
   "outputs": [
    {
     "data": {
      "text/html": [
       "<table>\n",
       "<thead><tr><th></th><th scope=col>y0</th><th scope=col>y1</th><th scope=col>d</th><th scope=col>x</th></tr></thead>\n",
       "<tbody>\n",
       "\t<tr><th scope=row>1</th><td>1.65102</td><td>2.507478</td><td>0</td><td>1</td></tr>\n",
       "\t<tr><th scope=row>2</th><td>0.5963996</td><td>2.22835</td><td>1</td><td>0</td></tr>\n",
       "\t<tr><th scope=row>3</th><td>0.3918852</td><td>1.988966</td><td>0</td><td>1</td></tr>\n",
       "\t<tr><th scope=row>4</th><td>1.196021</td><td>3.156455</td><td>1</td><td>0</td></tr>\n",
       "\t<tr><th scope=row>5</th><td>2.182882</td><td>4.049567</td><td>1</td><td>1</td></tr>\n",
       "\t<tr><th scope=row>6</th><td>1.813158</td><td>2.074732</td><td>1</td><td>1</td></tr>\n",
       "</tbody>\n",
       "</table>\n"
      ],
      "text/latex": [
       "\\begin{tabular}{r|llll}\n",
       "  & y0 & y1 & d & x\\\\\n",
       "\\hline\n",
       "\t1 & 1.65102 & 2.507478 & 0 & 1\\\\\n",
       "\t2 & 0.5963996 & 2.22835 & 1 & 0\\\\\n",
       "\t3 & 0.3918852 & 1.988966 & 0 & 1\\\\\n",
       "\t4 & 1.196021 & 3.156455 & 1 & 0\\\\\n",
       "\t5 & 2.182882 & 4.049567 & 1 & 1\\\\\n",
       "\t6 & 1.813158 & 2.074732 & 1 & 1\\\\\n",
       "\\end{tabular}\n"
      ],
      "text/plain": [
       "         y0       y1 d x\n",
       "1 1.6510196 2.507478 0 1\n",
       "2 0.5963996 2.228350 1 0\n",
       "3 0.3918852 1.988966 0 1\n",
       "4 1.1960212 3.156455 1 0\n",
       "5 2.1828815 4.049567 1 1\n",
       "6 1.8131576 2.074732 1 1"
      ]
     },
     "execution_count": 100,
     "metadata": {},
     "output_type": "execute_result"
    }
   ],
   "source": [
    "#data set\n",
    "df = data.frame(y0,y1, d, x)\n",
    "head(df)"
   ]
  },
  {
   "cell_type": "code",
   "execution_count": 101,
   "metadata": {
    "collapsed": false
   },
   "outputs": [
    {
     "data": {
      "text/html": [
       "1.0381848553675"
      ],
      "text/latex": [
       "1.0381848553675"
      ],
      "text/markdown": [
       "1.0381848553675"
      ],
      "text/plain": [
       "[1] 1.038185"
      ]
     },
     "execution_count": 101,
     "metadata": {},
     "output_type": "execute_result"
    }
   ],
   "source": [
    "#ATE\n",
    "mean(df$y1 - df$y0)"
   ]
  },
  {
   "cell_type": "code",
   "execution_count": 102,
   "metadata": {
    "collapsed": false
   },
   "outputs": [
    {
     "data": {
      "text/html": [
       "1.02411526268542"
      ],
      "text/latex": [
       "1.02411526268542"
      ],
      "text/markdown": [
       "1.02411526268542"
      ],
      "text/plain": [
       "[1] 1.024115"
      ]
     },
     "execution_count": 102,
     "metadata": {},
     "output_type": "execute_result"
    }
   ],
   "source": [
    "#ATT\n",
    "df2 = subset(df, d==1, c(y0, y1))\n",
    "mean(df2$y1 - df2$y0)"
   ]
  },
  {
   "cell_type": "markdown",
   "metadata": {},
   "source": [
    "### (e)\n",
    "\n",
    "** \n",
    "As you can see in the var-cov matrix, the effect v on u0 is larger than that on u1.   \n",
    "Therefore, $$ E[u_{1i}| X] - E[u_{0i}| X] >0$$ where it was $$ E[u_{1i}| X] - E[u_{0i}| X] = 0$$\n",
    "and because of this ATT is smaller than that of (b).\n",
    "**"
   ]
  },
  {
   "cell_type": "code",
   "execution_count": 103,
   "metadata": {
    "collapsed": false
   },
   "outputs": [
    {
     "data": {
      "text/html": [
       "<table>\n",
       "<thead><tr><th></th><th scope=col>y0</th><th scope=col>y1</th><th scope=col>d</th><th scope=col>x</th></tr></thead>\n",
       "<tbody>\n",
       "\t<tr><th scope=row>1</th><td>1.596381</td><td>2.880026</td><td>0</td><td>1</td></tr>\n",
       "\t<tr><th scope=row>2</th><td>0.6316221</td><td>2.106365</td><td>1</td><td>0</td></tr>\n",
       "\t<tr><th scope=row>3</th><td>0.3452987</td><td>2.385174</td><td>0</td><td>1</td></tr>\n",
       "\t<tr><th scope=row>4</th><td>1.265697</td><td>2.961678</td><td>1</td><td>0</td></tr>\n",
       "\t<tr><th scope=row>5</th><td>2.24772</td><td>3.857179</td><td>1</td><td>1</td></tr>\n",
       "\t<tr><th scope=row>6</th><td>1.771333</td><td>2.113006</td><td>1</td><td>1</td></tr>\n",
       "</tbody>\n",
       "</table>\n"
      ],
      "text/latex": [
       "\\begin{tabular}{r|llll}\n",
       "  & y0 & y1 & d & x\\\\\n",
       "\\hline\n",
       "\t1 & 1.596381 & 2.880026 & 0 & 1\\\\\n",
       "\t2 & 0.6316221 & 2.106365 & 1 & 0\\\\\n",
       "\t3 & 0.3452987 & 2.385174 & 0 & 1\\\\\n",
       "\t4 & 1.265697 & 2.961678 & 1 & 0\\\\\n",
       "\t5 & 2.24772 & 3.857179 & 1 & 1\\\\\n",
       "\t6 & 1.771333 & 2.113006 & 1 & 1\\\\\n",
       "\\end{tabular}\n"
      ],
      "text/plain": [
       "         y0       y1 d x\n",
       "1 1.5963815 2.880026 0 1\n",
       "2 0.6316221 2.106365 1 0\n",
       "3 0.3452987 2.385174 0 1\n",
       "4 1.2656972 2.961678 1 0\n",
       "5 2.2477202 3.857179 1 1\n",
       "6 1.7713329 2.113006 1 1"
      ]
     },
     "execution_count": 103,
     "metadata": {},
     "output_type": "execute_result"
    }
   ],
   "source": [
    "n =1000\n",
    "set.seed(10)\n",
    "mu = c(0, 0, 0)\n",
    "A <- array(c(1, 0.5, 0.5, 0.5, 1,  0, 0.5, 0, 1 ), dim=c(3,3))\n",
    "w = rmvnorm(n, mu, A)\n",
    "u0 = w[,1]\n",
    "u1 = w[,2]\n",
    "v = w[,3]\n",
    "\n",
    "x = rbinom(n = 1000, size = 1, prob = 0.5)\n",
    "y0 = 1 + x + u0\n",
    "y1 = 2 + x + u1\n",
    "\n",
    "xv = x+v\n",
    "indicator<-function(val) ifelse(val>0,1,0)\n",
    "d = indicator(xv)\n",
    "y=d*y1 + (1-d)*y0\n",
    "    \n",
    "#data set\n",
    "df = data.frame(y0,y1, d, x)\n",
    "head(df)"
   ]
  },
  {
   "cell_type": "code",
   "execution_count": 104,
   "metadata": {
    "collapsed": false
   },
   "outputs": [
    {
     "name": "stdout",
     "output_type": "stream",
     "text": [
      "[1] \"ATT\"\n"
     ]
    },
    {
     "data": {
      "text/html": [
       "0.772155567603075"
      ],
      "text/latex": [
       "0.772155567603075"
      ],
      "text/markdown": [
       "0.772155567603075"
      ],
      "text/plain": [
       "[1] 0.7721556"
      ]
     },
     "execution_count": 104,
     "metadata": {},
     "output_type": "execute_result"
    }
   ],
   "source": [
    "#ATT\n",
    "df2 = subset(df, d==1, c(y0, y1))\n",
    "print(\"ATT\")\n",
    "mean(df2$y1 - df2$y0)"
   ]
  },
  {
   "cell_type": "markdown",
   "metadata": {},
   "source": [
    "### (f)\n",
    "\n",
    "** Yes.  **"
   ]
  },
  {
   "cell_type": "code",
   "execution_count": 105,
   "metadata": {
    "collapsed": false
   },
   "outputs": [
    {
     "name": "stdout",
     "output_type": "stream",
     "text": [
      "[1] \"ATE\"\n"
     ]
    },
    {
     "data": {
      "text/html": [
       "1.00977595366162"
      ],
      "text/latex": [
       "1.00977595366162"
      ],
      "text/markdown": [
       "1.00977595366162"
      ],
      "text/plain": [
       "[1] 1.009776"
      ]
     },
     "execution_count": 105,
     "metadata": {},
     "output_type": "execute_result"
    },
    {
     "name": "stdout",
     "output_type": "stream",
     "text": [
      "[1] \"ATT\"\n"
     ]
    },
    {
     "data": {
      "text/html": [
       "0.630957498054237"
      ],
      "text/latex": [
       "0.630957498054237"
      ],
      "text/markdown": [
       "0.630957498054237"
      ],
      "text/plain": [
       "[1] 0.6309575"
      ]
     },
     "execution_count": 105,
     "metadata": {},
     "output_type": "execute_result"
    }
   ],
   "source": [
    "#ATE\n",
    "df2 = subset(df, x==0, c(y0, y1, d, x))\n",
    "print(\"ATE\")\n",
    "mean(df2$y1 - df2$y0)\n",
    "\n",
    "#ATT\n",
    "df3 = subset(df, d==1 & x ==0 , c(y0, y1,d,x))\n",
    "print(\"ATT\")\n",
    "mean(df3$y1 - df3$y0)"
   ]
  },
  {
   "cell_type": "markdown",
   "metadata": {},
   "source": [
    "### (g)"
   ]
  },
  {
   "cell_type": "code",
   "execution_count": 134,
   "metadata": {
    "collapsed": false
   },
   "outputs": [],
   "source": [
    "df4 = subset(df, d==1 , c(y0, y1,d,x))\n",
    "df5 = subset(df, d==0 , c(y0, y1,d,x))"
   ]
  },
  {
   "cell_type": "code",
   "execution_count": 133,
   "metadata": {
    "collapsed": false
   },
   "outputs": [
    {
     "name": "stdout",
     "output_type": "stream",
     "text": [
      "\n",
      "FALSE  TRUE \n",
      "  254   421 \n",
      "\n",
      "FALSE  TRUE \n",
      "  232    93 \n"
     ]
    },
    {
     "data": {
      "text/plain": [
       "\n",
       "\t2-sample test for equality of proportions with continuity correction\n",
       "\n",
       "data:  c(d1[2], d0[2]) out of c(d1[1] + d1[2], d0[1] + d0[2])\n",
       "X-squared = 98.714, df = 1, p-value < 2.2e-16\n",
       "alternative hypothesis: two.sided\n",
       "95 percent confidence interval:\n",
       " 0.2740324 0.4010673\n",
       "sample estimates:\n",
       "   prop 1    prop 2 \n",
       "0.6237037 0.2861538 \n"
      ]
     },
     "execution_count": 133,
     "metadata": {},
     "output_type": "execute_result"
    }
   ],
   "source": [
    "print(d1)\n",
    "print(d0)\n",
    "prop.test(c(d1[2],d0[2]),c(d1[1]+ d1[2], d0[1]+ d0[2]))"
   ]
  },
  {
   "cell_type": "markdown",
   "metadata": {},
   "source": [
    "** Since the p-value is 2.2e-16, we can see that their distributions diifer.   \n",
    "This means that the treatment is not randomized, as it seems obviouos.**"
   ]
  },
  {
   "cell_type": "markdown",
   "metadata": {},
   "source": [
    "## 4\n",
    "\n",
    "### (a)"
   ]
  },
  {
   "cell_type": "markdown",
   "metadata": {},
   "source": [
    "    clear\n",
    "    set seed 10\n",
    "\n",
    "    //a\n",
    "\n",
    "    matrix M = 0, 0, 0\n",
    "    matrix V = (1, 0.5, 0 \\ 0.5, 1, 0 \\ 0, 0, 1)\n",
    "    drawnorm u0 u1 v, n(1000) cov(V) means(M)\n",
    "    gen x = rbinomial(1, .5)\n",
    "\n",
    "    gen y0 = 1 + x + u0\n",
    "    gen y1 = 2 + x + u1\n",
    "    gen d = x + v\n",
    "\n",
    "    //Indicatour func.\n",
    "    replace d = 1 if d > 0\n",
    "    replace d = 0 if d != 1\n",
    "\n",
    "    gen y = d * y1 + (1 - d) * y0\n",
    "\n",
    "    //Calc ATT\n",
    "    psmatch2 d x, out(y)\n",
    "\n",
    "![](4a.png)"
   ]
  },
  {
   "cell_type": "markdown",
   "metadata": {
    "collapsed": true
   },
   "source": [
    "** ATT is 1.07715783 **"
   ]
  },
  {
   "cell_type": "markdown",
   "metadata": {},
   "source": [
    "**\n",
    "(b)  \n",
    "Use [kerneltype(type)]\n",
    "**\n",
    "\n",
    "**\n",
    "(c)  \n",
    "Use [bwidth(real_number)]\n",
    "**"
   ]
  },
  {
   "cell_type": "markdown",
   "metadata": {},
   "source": [
    "### (d)\n",
    "    clear\n",
    "\n",
    "    matrix M = 0, 0, 0\n",
    "    matrix V = (1, 0.5, 0.5 \\ 0.5, 1, 0.5 \\ 0.5, 0.5, 1)\n",
    "    drawnorm u0 u1 v, n(1000) cov(V) means(M)\n",
    "    gen x = rbinomial(1, .5)\n",
    "\n",
    "    gen y0 = 1 + x + u0\n",
    "    gen y1 = 2 + x + u1\n",
    "    gen d = x + v\n",
    "\n",
    "    //Indicatour func.\n",
    "    replace d = 1 if d > 0\n",
    "    replace d = 0 if d != 1\n",
    "\n",
    "    gen y = d * y1 + (1 - d) * y0\n",
    "\n",
    "    //Calc ATT\n",
    "    psmatch2 i.d x, out(y)\n",
    "\n",
    "![](4d.png)"
   ]
  },
  {
   "cell_type": "markdown",
   "metadata": {},
   "source": [
    "** ATT is 2.22339743 **"
   ]
  },
  {
   "cell_type": "markdown",
   "metadata": {
    "collapsed": true
   },
   "source": [
    "## 3\n",
    "\n",
    "\n",
    "### (a)\n",
    "\n",
    "    clear\n",
    "\n",
    "    matrix M = 0, 0, 0\n",
    "    matrix V = (1, 0.5, 0.5 \\ 0.5, 1, 0 \\ 0.5, 0, 1)\n",
    "    drawnorm u0 u1 v, n(1000) cov(V) means(M)\n",
    "    gen x = rbinomial(1, .5)\n",
    "\n",
    "    gen y0 = 1 + x + u0\n",
    "    gen y1 = 2 + x + u1\n",
    "    gen d = x + v\n",
    "\n",
    "    //Indicatour func.\n",
    "    replace d = 1 if d > 0\n",
    "    replace d = 0 if d != 1\n",
    "\n",
    "    gen y = d * y1 + (1 - d) * y0\n",
    "    gen Z = rbinomial(1, 0.5)\n",
    "    gen yz = y\n",
    "\n",
    "    replace yz = y0 if Z == 0\n",
    "    replace d = 0 if Z == 0\n",
    "\n",
    "### (b)\n",
    "\n",
    "    ivreg yz (d = Z)\n",
    "![](3b.png)\n",
    "\n",
    "**Here the ATT is 0.7074299.**\n",
    "\n",
    "### (c) \n",
    "\n",
    "** Divide the data into two groups where x= 0 and x=1, and then estimate ATT respectively using Bloom's idea.  **\n",
    "\n",
    "    mean(dif) if d == 1\n",
    "    ivreg yz (d = Z) if x == 1\n",
    "![](3c0.png)\n",
    "![](3c1.png)\n",
    "\n",
    "### (d)\n",
    "** Using a def. of ATT. **\n",
    "\n",
    "    gen dif = y1- y0\n",
    "    mean(dif) if x == 1\n",
    "    mean(dif) if x == 0\n",
    "![](3d.png)\n",
    "\n",
    "**The values above are close to that of c, so it seems that they are consistent.**\n",
    "    \n",
    "### (e)\n",
    "**Compare the two results below.**\n",
    "\n",
    "    mean(y0) if d == 0\n",
    "    mean(y0) if d == 1\n",
    "![](3e.png)\n",
    "\n",
    "As you see  \n",
    "\n",
    "$$ E(y_0 | D =1 ) \\neq E(y_0 | D =1 ) $$"
   ]
  },
  {
   "cell_type": "code",
   "execution_count": null,
   "metadata": {
    "collapsed": true
   },
   "outputs": [],
   "source": []
  },
  {
   "cell_type": "markdown",
   "metadata": {},
   "source": [
    "## 6 ** (a) **  \n",
    "## 7 **(d)**"
   ]
  }
 ],
 "metadata": {
  "kernelspec": {
   "display_name": "R",
   "language": "R",
   "name": "ir"
  },
  "language_info": {
   "codemirror_mode": "r",
   "file_extension": ".r",
   "mimetype": "text/x-r-source",
   "name": "R",
   "pygments_lexer": "r",
   "version": "3.2.2"
  }
 },
 "nbformat": 4,
 "nbformat_minor": 0
}
