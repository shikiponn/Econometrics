{
 "cells": [
  {
   "cell_type": "markdown",
   "metadata": {},
   "source": [
    "<h2>(a)</h2>"
   ]
  },
  {
   "cell_type": "code",
   "execution_count": 64,
   "metadata": {
    "collapsed": false
   },
   "outputs": [
    {
     "data": {
      "text/plain": [
       "\n",
       "Call:\n",
       "lm(formula = y ~ x + z)\n",
       "\n",
       "Residuals:\n",
       "     Min       1Q   Median       3Q      Max \n",
       "-2.95833 -0.89069  0.07043  0.68595  2.62658 \n",
       "\n",
       "Coefficients:\n",
       "            Estimate Std. Error t value Pr(>|t|)    \n",
       "(Intercept)  0.64119    0.11998   5.344 6.01e-07 ***\n",
       "x            0.55556    0.08234   6.747 1.10e-09 ***\n",
       "z            1.29513    0.12957   9.996  < 2e-16 ***\n",
       "---\n",
       "Signif. codes:  0 ‘***’ 0.001 ‘**’ 0.01 ‘*’ 0.05 ‘.’ 0.1 ‘ ’ 1\n",
       "\n",
       "Residual standard error: 1.188 on 97 degrees of freedom\n",
       "Multiple R-squared:  0.6063,\tAdjusted R-squared:  0.5981 \n",
       "F-statistic: 74.68 on 2 and 97 DF,  p-value: < 2.2e-16\n"
      ]
     },
     "execution_count": 64,
     "metadata": {},
     "output_type": "execute_result"
    }
   ],
   "source": [
    "library(mvtnorm)\n",
    "set.seed(10)\n",
    "lo = 0\n",
    "A <- array(c(1, lo, 0, lo , 1,0,0,0,1), dim=c(3,3))\n",
    "sd = 1\n",
    "w = rmvnorm(100, mu, A)\n",
    "v = rnorm(mean = 0, sd = sd, 100) #v\n",
    "xs = w[, 1] #x*\n",
    "z = w[, 2] #z\n",
    "u = w[, 3] #u\n",
    "x = xs + v  #x\n",
    "\n",
    "y = 1 +xs + z + u\n",
    "res = lm(y ~  x + z)\n",
    "summary(res)\n"
   ]
  },
  {
   "cell_type": "markdown",
   "metadata": {},
   "source": [
    "<h3>Ans.</h3></br><p>**The coef. of interception and x are smaller than the true value, 1.This is an attenuation bias.To see a direction of the bias, we should regress y on the true value xs.**</p>"
   ]
  },
  {
   "cell_type": "markdown",
   "metadata": {
    "collapsed": false
   },
   "source": [
    "<h2>(b)</h2>"
   ]
  },
  {
   "cell_type": "code",
   "execution_count": 63,
   "metadata": {
    "collapsed": false
   },
   "outputs": [
    {
     "data": {
      "text/plain": [
       "\n",
       "Call:\n",
       "lm(formula = ytest ~ 1 + x + z)\n",
       "\n",
       "Residuals:\n",
       "    Min      1Q  Median      3Q     Max \n",
       "-3.2855 -0.8305 -0.0033  0.8112  2.5612 \n",
       "\n",
       "Coefficients:\n",
       "            Estimate Std. Error t value Pr(>|t|)    \n",
       "(Intercept)  0.60600    0.12788   4.739 7.36e-06 ***\n",
       "x            0.37896    0.07088   5.347 5.95e-07 ***\n",
       "z            1.30780    0.13799   9.478 1.80e-15 ***\n",
       "---\n",
       "Signif. codes:  0 ‘***’ 0.001 ‘**’ 0.01 ‘*’ 0.05 ‘.’ 0.1 ‘ ’ 1\n",
       "\n",
       "Residual standard error: 1.266 on 97 degrees of freedom\n",
       "Multiple R-squared:  0.5532,\tAdjusted R-squared:  0.544 \n",
       "F-statistic: 60.04 on 2 and 97 DF,  p-value: < 2.2e-16\n"
      ]
     },
     "execution_count": 63,
     "metadata": {},
     "output_type": "execute_result"
    }
   ],
   "source": [
    "library(mvtnorm)\n",
    "set.seed(10)\n",
    "lo = 0\n",
    " A <- array(c(1, lo, 0, lo , 1,0,0,0,1), dim=c(3,3))\n",
    "sd = sqrt(2)\n",
    "w = rmvnorm(100, mu, A)\n",
    "v = rnorm(mean = 0, sd = sd, 100)\n",
    "\n",
    "xs = w[, 1]\n",
    "z = w[, 2]\n",
    "u = w[, 3]\n",
    "x = xs + v\n",
    "\n",
    "ytest = 1 +xs + z + u\n",
    "\n",
    "res = lm(ytest ~ 1 + x + z)\n",
    "summary(res)"
   ]
  },
  {
   "cell_type": "markdown",
   "metadata": {},
   "source": [
    "<h3>Ans.</h3></br><p>**The coef. on x became smaller compared to that that of (a).  That means the inconsistency is larger.**</p>"
   ]
  },
  {
   "cell_type": "markdown",
   "metadata": {},
   "source": [
    "<h2>(c)</h2>"
   ]
  },
  {
   "cell_type": "code",
   "execution_count": 62,
   "metadata": {
    "collapsed": false
   },
   "outputs": [
    {
     "data": {
      "text/plain": [
       "\n",
       "Call:\n",
       "lm(formula = ytest ~ 1 + x + z)\n",
       "\n",
       "Residuals:\n",
       "     Min       1Q   Median       3Q      Max \n",
       "-2.66490 -0.87805  0.04447  0.77839  2.32962 \n",
       "\n",
       "Coefficients:\n",
       "            Estimate Std. Error t value Pr(>|t|)    \n",
       "(Intercept)  0.65974    0.11302   5.837 7.03e-08 ***\n",
       "x            0.45293    0.08358   5.419 4.36e-07 ***\n",
       "z            1.58445    0.12896  12.287  < 2e-16 ***\n",
       "---\n",
       "Signif. codes:  0 ‘***’ 0.001 ‘**’ 0.01 ‘*’ 0.05 ‘.’ 0.1 ‘ ’ 1\n",
       "\n",
       "Residual standard error: 1.127 on 97 degrees of freedom\n",
       "Multiple R-squared:  0.7307,\tAdjusted R-squared:  0.7251 \n",
       "F-statistic: 131.6 on 2 and 97 DF,  p-value: < 2.2e-16\n"
      ]
     },
     "execution_count": 62,
     "metadata": {},
     "output_type": "execute_result"
    }
   ],
   "source": [
    "library(mvtnorm)\n",
    "set.seed(10)\n",
    "lo = 0.5\n",
    " A <- array(c(1, lo, 0, lo , 1,0,0,0,1), dim=c(3,3))\n",
    "sd = 1\n",
    "w = rmvnorm(100, mu, A)\n",
    "v = rnorm(mean = 0, sd = sd, 100)\n",
    "    \n",
    "xs = w[, 1]\n",
    "z = w[, 2]\n",
    "u = w[, 3]\n",
    "x = xs + v\n",
    "\n",
    "ytest = 1 +xs + z + u\n",
    "\n",
    "res = lm(ytest ~ 1 + x + z)\n",
    "summary(res)"
   ]
  },
  {
   "cell_type": "markdown",
   "metadata": {},
   "source": [
    "<h3>Ans.</h3></br><p>**The coef. on x became smaller compared to that that of (a).  That means the inconsistency is larger.**</p>"
   ]
  }
 ],
 "metadata": {
  "kernelspec": {
   "display_name": "R",
   "language": "R",
   "name": "ir"
  },
  "language_info": {
   "codemirror_mode": "r",
   "file_extension": ".r",
   "mimetype": "text/x-r-source",
   "name": "R",
   "pygments_lexer": "r",
   "version": "3.2.0"
  }
 },
 "nbformat": 4,
 "nbformat_minor": 0
}
