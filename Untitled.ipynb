{
 "cells": [
  {
   "cell_type": "markdown",
   "metadata": {},
   "source": [
    "### (d)"
   ]
  },
  {
   "cell_type": "code",
   "execution_count": 2,
   "metadata": {
    "collapsed": true
   },
   "outputs": [],
   "source": [
    "library(mvtnorm)"
   ]
  },
  {
   "cell_type": "code",
   "execution_count": 10,
   "metadata": {
    "collapsed": false
   },
   "outputs": [],
   "source": [
    "n =1000\n",
    "set.seed(10)\n",
    "mu = c(0, 0, 0)\n",
    "A <- array(c(1, 0.5, 0.5, 0.5, 1,  0.5, 0.5, 0.5, 1 ), dim=c(3,3))\n",
    "w = rmvnorm(n, mu, A)\n",
    "u0 = w[,1]\n",
    "u1 = w[,2]\n",
    "v = w[,3]\n",
    "\n",
    "x = rbinom(n = 1000, size = 1, prob = 0.5)\n",
    "y0 = 1 + x + u0\n",
    "y1 = 2 + x + u1\n",
    "\n",
    "xv = x+v\n",
    "indicator<-function(val) ifelse(val>0,1,0)\n",
    "d = indicator(xv)\n",
    "y=d*y1 + (1-d)*y0"
   ]
  },
  {
   "cell_type": "code",
   "execution_count": 11,
   "metadata": {
    "collapsed": false
   },
   "outputs": [
    {
     "data": {
      "text/html": [
       "<table>\n",
       "<thead><tr><th></th><th scope=col>y0</th><th scope=col>y1</th><th scope=col>d</th><th scope=col>x</th></tr></thead>\n",
       "<tbody>\n",
       "\t<tr><th scope=row>1</th><td>1.65102</td><td>2.507478</td><td>0</td><td>1</td></tr>\n",
       "\t<tr><th scope=row>2</th><td>0.5963996</td><td>2.22835</td><td>1</td><td>0</td></tr>\n",
       "\t<tr><th scope=row>3</th><td>0.3918852</td><td>1.988966</td><td>0</td><td>1</td></tr>\n",
       "\t<tr><th scope=row>4</th><td>1.196021</td><td>3.156455</td><td>1</td><td>0</td></tr>\n",
       "\t<tr><th scope=row>5</th><td>2.182882</td><td>4.049567</td><td>1</td><td>1</td></tr>\n",
       "\t<tr><th scope=row>6</th><td>1.813158</td><td>2.074732</td><td>1</td><td>1</td></tr>\n",
       "</tbody>\n",
       "</table>\n"
      ],
      "text/latex": [
       "\\begin{tabular}{r|llll}\n",
       "  & y0 & y1 & d & x\\\\\n",
       "\\hline\n",
       "\t1 & 1.65102 & 2.507478 & 0 & 1\\\\\n",
       "\t2 & 0.5963996 & 2.22835 & 1 & 0\\\\\n",
       "\t3 & 0.3918852 & 1.988966 & 0 & 1\\\\\n",
       "\t4 & 1.196021 & 3.156455 & 1 & 0\\\\\n",
       "\t5 & 2.182882 & 4.049567 & 1 & 1\\\\\n",
       "\t6 & 1.813158 & 2.074732 & 1 & 1\\\\\n",
       "\\end{tabular}\n"
      ],
      "text/plain": [
       "         y0       y1 d x\n",
       "1 1.6510196 2.507478 0 1\n",
       "2 0.5963996 2.228350 1 0\n",
       "3 0.3918852 1.988966 0 1\n",
       "4 1.1960212 3.156455 1 0\n",
       "5 2.1828815 4.049567 1 1\n",
       "6 1.8131576 2.074732 1 1"
      ]
     },
     "execution_count": 11,
     "metadata": {},
     "output_type": "execute_result"
    }
   ],
   "source": [
    "#data set\n",
    "df = data.frame(y0,y1, d, x)\n",
    "head(df)"
   ]
  },
  {
   "cell_type": "code",
   "execution_count": 12,
   "metadata": {
    "collapsed": false
   },
   "outputs": [
    {
     "name": "stdout",
     "output_type": "stream",
     "text": [
      "[1] \"ATE is\"\n"
     ]
    },
    {
     "data": {
      "text/html": [
       "1.0381848553675"
      ],
      "text/latex": [
       "1.0381848553675"
      ],
      "text/markdown": [
       "1.0381848553675"
      ],
      "text/plain": [
       "[1] 1.038185"
      ]
     },
     "execution_count": 12,
     "metadata": {},
     "output_type": "execute_result"
    }
   ],
   "source": [
    "#ATE\n",
    "print(\"ATE is\")\n",
    "mean(df$y1 - df$y0)"
   ]
  },
  {
   "cell_type": "code",
   "execution_count": 13,
   "metadata": {
    "collapsed": false
   },
   "outputs": [
    {
     "name": "stdout",
     "output_type": "stream",
     "text": [
      "[1] \"ATT is\"\n"
     ]
    },
    {
     "data": {
      "text/html": [
       "1.02411526268542"
      ],
      "text/latex": [
       "1.02411526268542"
      ],
      "text/markdown": [
       "1.02411526268542"
      ],
      "text/plain": [
       "[1] 1.024115"
      ]
     },
     "execution_count": 13,
     "metadata": {},
     "output_type": "execute_result"
    }
   ],
   "source": [
    "#ATT\n",
    "df2 = subset(df, d==1, c(y0, y1))\n",
    "print(\"ATT is\")\n",
    "mean(df2$y1 - df2$y0)"
   ]
  },
  {
   "cell_type": "markdown",
   "metadata": {},
   "source": [
    "** As you can seem ATT and ATE are different values. **"
   ]
  },
  {
   "cell_type": "markdown",
   "metadata": {},
   "source": [
    "### (e)\n",
    "\n",
    "** \n",
    "Yes. As you can see in the var-cov matrix, the effect v on u0 is larger than that on u1.   \n",
    "Therefore, it becomes $$  ATT = E[u_{1i}| X] - E[u_{0i}| X] >0$$ where it was $$  ATT = E[u_{1i}| X] - E[u_{0i}| X] = 0$$ in (c)\n",
    ",and because of this ATT is smaller than that of (c). Thus, ATT will be smaller than ATE.\n",
    "**"
   ]
  },
  {
   "cell_type": "code",
   "execution_count": 16,
   "metadata": {
    "collapsed": false
   },
   "outputs": [
    {
     "data": {
      "text/html": [
       "<table>\n",
       "<thead><tr><th></th><th scope=col>y0</th><th scope=col>y1</th><th scope=col>d</th><th scope=col>x</th></tr></thead>\n",
       "<tbody>\n",
       "\t<tr><th scope=row>1</th><td>1.596381</td><td>2.880026</td><td>0</td><td>1</td></tr>\n",
       "\t<tr><th scope=row>2</th><td>0.6316221</td><td>2.106365</td><td>1</td><td>0</td></tr>\n",
       "\t<tr><th scope=row>3</th><td>0.3452987</td><td>2.385174</td><td>0</td><td>1</td></tr>\n",
       "\t<tr><th scope=row>4</th><td>1.265697</td><td>2.961678</td><td>1</td><td>0</td></tr>\n",
       "\t<tr><th scope=row>5</th><td>2.24772</td><td>3.857179</td><td>1</td><td>1</td></tr>\n",
       "\t<tr><th scope=row>6</th><td>1.771333</td><td>2.113006</td><td>1</td><td>1</td></tr>\n",
       "</tbody>\n",
       "</table>\n"
      ],
      "text/latex": [
       "\\begin{tabular}{r|llll}\n",
       "  & y0 & y1 & d & x\\\\\n",
       "\\hline\n",
       "\t1 & 1.596381 & 2.880026 & 0 & 1\\\\\n",
       "\t2 & 0.6316221 & 2.106365 & 1 & 0\\\\\n",
       "\t3 & 0.3452987 & 2.385174 & 0 & 1\\\\\n",
       "\t4 & 1.265697 & 2.961678 & 1 & 0\\\\\n",
       "\t5 & 2.24772 & 3.857179 & 1 & 1\\\\\n",
       "\t6 & 1.771333 & 2.113006 & 1 & 1\\\\\n",
       "\\end{tabular}\n"
      ],
      "text/plain": [
       "         y0       y1 d x\n",
       "1 1.5963815 2.880026 0 1\n",
       "2 0.6316221 2.106365 1 0\n",
       "3 0.3452987 2.385174 0 1\n",
       "4 1.2656972 2.961678 1 0\n",
       "5 2.2477202 3.857179 1 1\n",
       "6 1.7713329 2.113006 1 1"
      ]
     },
     "execution_count": 16,
     "metadata": {},
     "output_type": "execute_result"
    }
   ],
   "source": [
    "n =1000\n",
    "set.seed(10)\n",
    "mu = c(0, 0, 0)\n",
    "A <- array(c(1, 0.5, 0.5, 0.5, 1,  0, 0.5, 0, 1 ), dim=c(3,3))\n",
    "w = rmvnorm(n, mu, A)\n",
    "u0 = w[,1]\n",
    "u1 = w[,2]\n",
    "v = w[,3]\n",
    "\n",
    "x = rbinom(n = 1000, size = 1, prob = 0.5)\n",
    "y0 = 1 + x + u0\n",
    "y1 = 2 + x + u1\n",
    "\n",
    "xv = x+v\n",
    "indicator<-function(val) ifelse(val>0,1,0)\n",
    "d = indicator(xv)\n",
    "y=d*y1 + (1-d)*y0\n",
    "    \n",
    "#data set\n",
    "df = data.frame(y0,y1, d, x)\n",
    "head(df)"
   ]
  },
  {
   "cell_type": "code",
   "execution_count": 15,
   "metadata": {
    "collapsed": false
   },
   "outputs": [
    {
     "name": "stdout",
     "output_type": "stream",
     "text": [
      "[1] \"ATE is\"\n"
     ]
    },
    {
     "data": {
      "text/html": [
       "1.02525753898147"
      ],
      "text/latex": [
       "1.02525753898147"
      ],
      "text/markdown": [
       "1.02525753898147"
      ],
      "text/plain": [
       "[1] 1.025258"
      ]
     },
     "execution_count": 15,
     "metadata": {},
     "output_type": "execute_result"
    },
    {
     "name": "stdout",
     "output_type": "stream",
     "text": [
      "[1] \"ATT\"\n"
     ]
    },
    {
     "data": {
      "text/html": [
       "0.772155567603075"
      ],
      "text/latex": [
       "0.772155567603075"
      ],
      "text/markdown": [
       "0.772155567603075"
      ],
      "text/plain": [
       "[1] 0.7721556"
      ]
     },
     "execution_count": 15,
     "metadata": {},
     "output_type": "execute_result"
    }
   ],
   "source": [
    "#ATE\n",
    "print(\"ATE is\")\n",
    "mean(df$y1 - df$y0)\n",
    "\n",
    "#ATT\n",
    "df2 = subset(df, d==1, c(y0, y1))\n",
    "print(\"ATT is\")\n",
    "mean(df2$y1 - df2$y0)"
   ]
  },
  {
   "cell_type": "markdown",
   "metadata": {},
   "source": [
    "** Obviously ATT is smaller than ATE. **"
   ]
  },
  {
   "cell_type": "markdown",
   "metadata": {},
   "source": [
    "### (f)\n",
    "\n",
    "** Yes.  \n",
    "ATE is  \n",
    "    $$ E(y_1 - y_0 | x_i =0 ) = E(1 + u_{1i} - u_{0i} | x_i =0 )  = 1$$\n",
    "and ATT is\n",
    "    $$ E(y_1 - y_0 | x_i =0, D = 1 ) = E(1 + u_{1i} - u_{0i} | x_i =0, D =1 )  \\\\\n",
    "    = 1 + E(u_{1i}| v_i >0 )- E(u_{0i} | v_i >0) $$\n",
    "From the var-cov matrix $E(u_{1i}| v_i >0 )< E(u_{0i} | v_i >0)$ ,so the ATT will be smaller than the ATE.\n",
    "**"
   ]
  },
  {
   "cell_type": "code",
   "execution_count": 30,
   "metadata": {
    "collapsed": false
   },
   "outputs": [
    {
     "name": "stdout",
     "output_type": "stream",
     "text": [
      "[1] \"ATE\"\n"
     ]
    },
    {
     "data": {
      "text/html": [
       "1.00977595366162"
      ],
      "text/latex": [
       "1.00977595366162"
      ],
      "text/markdown": [
       "1.00977595366162"
      ],
      "text/plain": [
       "[1] 1.009776"
      ]
     },
     "execution_count": 30,
     "metadata": {},
     "output_type": "execute_result"
    },
    {
     "name": "stdout",
     "output_type": "stream",
     "text": [
      "[1] \"ATT\"\n"
     ]
    },
    {
     "data": {
      "text/html": [
       "0.630957498054237"
      ],
      "text/latex": [
       "0.630957498054237"
      ],
      "text/markdown": [
       "0.630957498054237"
      ],
      "text/plain": [
       "[1] 0.6309575"
      ]
     },
     "execution_count": 30,
     "metadata": {},
     "output_type": "execute_result"
    }
   ],
   "source": [
    "#ATE\n",
    "df2 = subset(df, x==0, c(y0, y1, d, x))\n",
    "print(\"ATE\")\n",
    "mean(df2$y1 - df2$y0)\n",
    "\n",
    "#ATT\n",
    "df3 = subset(df, d==1 & x ==0 , c(y0, y1,d,x))\n",
    "print(\"ATT\")\n",
    "mean(df3$y1 - df3$y0)"
   ]
  },
  {
   "cell_type": "markdown",
   "metadata": {},
   "source": [
    "### (g)\n",
    "\n",
    "**Below, I am going to held a z-test to see i**"
   ]
  },
  {
   "cell_type": "code",
   "execution_count": 19,
   "metadata": {
    "collapsed": false
   },
   "outputs": [],
   "source": [
    "df4 = subset(df, d==1 , c(y0, y1,d,x))\n",
    "df5 = subset(df, d==0 , c(y0, y1,d,x))"
   ]
  },
  {
   "cell_type": "code",
   "execution_count": 29,
   "metadata": {
    "collapsed": false
   },
   "outputs": [
    {
     "name": "stdout",
     "output_type": "stream",
     "text": [
      "[1] \"TRUE shows the number of x=1,where d =1.\"\n",
      "\n",
      "FALSE  TRUE \n",
      "  254   421 \n",
      "[1] \"TRUE shows the number of x=1,where d =0.\"\n",
      "\n",
      "FALSE  TRUE \n",
      "  232    93 \n"
     ]
    },
    {
     "data": {
      "text/plain": [
       "\n",
       "\t2-sample test for equality of proportions with continuity correction\n",
       "\n",
       "data:  c(d1[2], d0[2]) out of c(d1[1] + d1[2], d0[1] + d0[2])\n",
       "X-squared = 98.714, df = 1, p-value < 2.2e-16\n",
       "alternative hypothesis: two.sided\n",
       "95 percent confidence interval:\n",
       " 0.2740324 0.4010673\n",
       "sample estimates:\n",
       "   prop 1    prop 2 \n",
       "0.6237037 0.2861538 \n"
      ]
     },
     "execution_count": 29,
     "metadata": {},
     "output_type": "execute_result"
    }
   ],
   "source": [
    "d1 = table(df4$x==1)\n",
    "d0 = table(df5$x==1)\n",
    "print(\"TRUE shows the number of x=1,where d =1.\")\n",
    "print(d1)\n",
    "print(\"TRUE shows the number of x=1,where d =0.\")\n",
    "print(d0)\n",
    "prop.test(c(d1[2],d0[2]),c(d1[1]+ d1[2], d0[1]+ d0[2]))"
   ]
  },
  {
   "cell_type": "markdown",
   "metadata": {},
   "source": [
    "** Since the p-value is 2.2e-16, we can see that their distributions diifer.   \n",
    "This means that the treatment is not randomized, as it seems obviouos.**"
   ]
  },
  {
   "cell_type": "markdown",
   "metadata": {},
   "source": [
    "## 4\n",
    "\n",
    "### (a)"
   ]
  },
  {
   "cell_type": "markdown",
   "metadata": {},
   "source": [
    "    clear\n",
    "    set seed 10\n",
    "\n",
    "    //a\n",
    "\n",
    "    matrix M = 0, 0, 0\n",
    "    matrix V = (1, 0.5, 0 \\ 0.5, 1, 0 \\ 0, 0, 1)\n",
    "    drawnorm u0 u1 v, n(1000) cov(V) means(M)\n",
    "    gen x = rbinomial(1, .5)\n",
    "\n",
    "    gen y0 = 1 + x + u0\n",
    "    gen y1 = 2 + x + u1\n",
    "    gen d = x + v\n",
    "\n",
    "    //Indicatour func.\n",
    "    replace d = 1 if d > 0\n",
    "    replace d = 0 if d != 1\n",
    "\n",
    "    gen y = d * y1 + (1 - d) * y0\n",
    "\n",
    "    //Calc ATT\n",
    "    psmatch2 d x, out(y)\n",
    "\n",
    "![](4a.png)"
   ]
  },
  {
   "cell_type": "markdown",
   "metadata": {
    "collapsed": true
   },
   "source": [
    "** ATT is 1.07715783 **"
   ]
  },
  {
   "cell_type": "markdown",
   "metadata": {},
   "source": [
    "\n",
    "### (b)\n",
    "\n",
    "**\n",
    "    Use [kerneltype(type)]\n",
    "**\n",
    "### (c)\n",
    "\n",
    "**\n",
    "    Use [bwidth(real_number)]\n",
    "**"
   ]
  },
  {
   "cell_type": "markdown",
   "metadata": {},
   "source": [
    "### (d)\n",
    "    clear\n",
    "\n",
    "    matrix M = 0, 0, 0\n",
    "    matrix V = (1, 0.5, 0.5 \\ 0.5, 1, 0.5 \\ 0.5, 0.5, 1)\n",
    "    drawnorm u0 u1 v, n(1000) cov(V) means(M)\n",
    "    gen x = rbinomial(1, .5)\n",
    "\n",
    "    gen y0 = 1 + x + u0\n",
    "    gen y1 = 2 + x + u1\n",
    "    gen d = x + v\n",
    "\n",
    "    //Indicatour func.\n",
    "    replace d = 1 if d > 0\n",
    "    replace d = 0 if d != 1\n",
    "\n",
    "    gen y = d * y1 + (1 - d) * y0\n",
    "\n",
    "    //Calc ATT\n",
    "    psmatch2 i.d x, out(y)\n",
    "\n",
    "![](4d.png)"
   ]
  },
  {
   "cell_type": "markdown",
   "metadata": {},
   "source": [
    "** ATT is 2.22339743 **"
   ]
  },
  {
   "cell_type": "markdown",
   "metadata": {
    "collapsed": true
   },
   "source": [
    "## 3\n",
    "\n",
    "\n",
    "### (a)\n",
    "\n",
    "    clear\n",
    "\n",
    "    matrix M = 0, 0, 0\n",
    "    matrix V = (1, 0.5, 0.5 \\ 0.5, 1, 0 \\ 0.5, 0, 1)\n",
    "    drawnorm u0 u1 v, n(1000) cov(V) means(M)\n",
    "    gen x = rbinomial(1, .5)\n",
    "\n",
    "    gen y0 = 1 + x + u0\n",
    "    gen y1 = 2 + x + u1\n",
    "    gen d = x + v\n",
    "\n",
    "    //Indicatour func.\n",
    "    replace d = 1 if d > 0\n",
    "    replace d = 0 if d != 1\n",
    "\n",
    "    gen y = d * y1 + (1 - d) * y0\n",
    "    gen Z = rbinomial(1, 0.5)\n",
    "    gen yz = y\n",
    "\n",
    "    replace yz = y0 if Z == 0\n",
    "    replace d = 0 if Z == 0\n",
    "\n",
    "### (b)\n",
    "\n",
    "    ivreg yz (d = Z)\n",
    "![](3b.png)\n",
    "\n",
    "**Here the ATT is 0.7074299.**\n",
    "\n",
    "### (c) \n",
    "\n",
    "** Divide the data into two groups where x= 0 and x=1, and then estimate ATT respectively using Bloom's idea.  **\n",
    "\n",
    "    mean(dif) if d == 1\n",
    "    ivreg yz (d = Z) if x == 1\n",
    "![](3c0.png)\n",
    "![](3c1.png)\n",
    "\n",
    "### (d)\n",
    "** Using a def. of ATT. **\n",
    "\n",
    "    gen dif = y1- y0\n",
    "    mean(dif) if x == 1\n",
    "    mean(dif) if x == 0\n",
    "![](3d.png)\n",
    "\n",
    "**The values above are close to that of c, so it seems that they are consistent.**\n",
    "    \n",
    "### (e)\n",
    "**Compare the two results below.**\n",
    "\n",
    "    mean(y0) if d == 0\n",
    "    mean(y0) if d == 1\n",
    "![](3e.png)\n",
    "\n",
    "**As you see  **\n",
    "\n",
    "$$ E(y_0 | D =1 ) \\neq E(y_0 | D =1 ) $$"
   ]
  },
  {
   "cell_type": "markdown",
   "metadata": {},
   "source": [
    "## 6 ** (a) **  \n",
    "## 7 **(a)**"
   ]
  },
  {
   "cell_type": "markdown",
   "metadata": {},
   "source": [
    "## 2\n",
    "\n",
    "### (a)\n",
    "**Asume a two periods model as follows.  (Below I omit a subscript i for a visibility.)**\n",
    "\n",
    "**Period 1**\n",
    "$$\n",
    "y_{01} = 1 + x + d_1 \\\\\n",
    "y_{11} = 2 + x + d_1 \\\\\n",
    "$$\n",
    "**Period 2**\n",
    "$$\n",
    "y_{02} = 1 + x+ d_2 \\\\\n",
    "y_{12} =  2 + x + d_2 \\\\\n",
    "$$\n",
    "\n",
    "**where  **\n",
    "$$\n",
    "d = 1\\{ x + v>0 \\} \\\\\n",
    "v \\sim N(0, 1) \\\\\n",
    "d1 \\sim N(0, 1) \\\\\n",
    "d2 \\sim N(1, 1)\n",
    "$$ \n",
    "**Note that there is a correlation between the error term d and thep eriods.  In period 1 the mean of d(= d1) is 0 where in period2 (=d2) it is 1.**\n",
    "\n",
    "#### Matching method\n",
    "$\n",
    "E[1+x+d1, 1+x+d2 | D =1] = 1+E[x]+E[\\frac{d1+d2}{2} | D =1] = 1.5+E[x] \n",
    "$  \n",
    "$\\because E[d1] = 0 , E[d2] = 1$  \n",
    "$\n",
    "E[2+x+d1, 2+x+d2 | D =1] = 2+E[x]+E[\\frac{d1+d2}{2} | D =1]  = 2.5 +E[x] \n",
    "$  \n",
    "$\\because E[d1] = 0 , E[d2] = 1$\n",
    "\n",
    "**The avove two equations are inequal, so matching method does not hold in this model.**\n",
    "\n",
    "#### Difference in diiferences\n",
    "\n",
    "$$ \n",
    "E[y_{02} - y_{01} | D =0] = E[(1 + x + d2) - (1 + x + d1) | D=0 ] \\\\\n",
    "= E[d2 | D=0] - E[d1 | D=0] = 1- 0 = 1\n",
    "$$\n",
    "$$\n",
    "E[y_{02} - y_{01} | D =0] = E[(1 + x + d2) - (1 + x + d1) | D=1] \\\\\n",
    "= E[d2 | D=1] - E[d1 | D=1] = 1- 0 = 1\n",
    "$$\n",
    "\n",
    "**The avove two equations are equal, so difference in diiferences does  hold in this model.**"
   ]
  },
  {
   "cell_type": "markdown",
   "metadata": {},
   "source": [
    "### (b)\n",
    "**Below I am going to verify (a) using the model I made.  In this model x is generated by the same argorytm used in 1.**"
   ]
  },
  {
   "cell_type": "code",
   "execution_count": 73,
   "metadata": {
    "collapsed": true
   },
   "outputs": [],
   "source": [
    "n =1000\n",
    "# set.seed(10)\n",
    "\n",
    "v =  rnorm(n=n, mean = 0, sd = 1)\n",
    "\n",
    "d1 = rnorm(n=n, mean = 0, sd = 1)\n",
    "d2 = rnorm(n=n, mean = 1, sd = 1)\n",
    "\n",
    "x = rbinom(n = 1000, size = 1, prob = 0.5)\n",
    "\n",
    "#Period1\n",
    "y01 = 1 + x + d1\n",
    "y11 = 2 + x + d1\n",
    "\n",
    "#Period2\n",
    "y02 = 1 + x + d2\n",
    "y12 = 2 + x + d2\n",
    "\n",
    "xv = x+v\n",
    "indicator<-function(val) ifelse(val>0,1,0)\n",
    "d = indicator(xv)\n",
    "y=d*y1 + (1-d)*y0\n",
    "    \n",
    "    \n",
    "    #data set\n"
   ]
  },
  {
   "cell_type": "code",
   "execution_count": 74,
   "metadata": {
    "collapsed": false
   },
   "outputs": [
    {
     "data": {
      "text/html": [
       "<table>\n",
       "<thead><tr><th></th><th scope=col>y01</th><th scope=col>y11</th><th scope=col>d</th><th scope=col>x</th></tr></thead>\n",
       "<tbody>\n",
       "\t<tr><th scope=row>1</th><td>2.48054</td><td>3.48054</td><td>1</td><td>1</td></tr>\n",
       "\t<tr><th scope=row>2</th><td>0.7562054</td><td>1.756205</td><td>1</td><td>1</td></tr>\n",
       "\t<tr><th scope=row>3</th><td>2.339397</td><td>3.339397</td><td>1</td><td>1</td></tr>\n",
       "\t<tr><th scope=row>4</th><td>2.201936</td><td>3.201936</td><td>1</td><td>1</td></tr>\n",
       "\t<tr><th scope=row>5</th><td>-0.8470117</td><td>0.1529883</td><td>1</td><td>0</td></tr>\n",
       "\t<tr><th scope=row>6</th><td>3.522555</td><td>4.522555</td><td>1</td><td>1</td></tr>\n",
       "</tbody>\n",
       "</table>\n"
      ],
      "text/latex": [
       "\\begin{tabular}{r|llll}\n",
       "  & y01 & y11 & d & x\\\\\n",
       "\\hline\n",
       "\t1 & 2.48054 & 3.48054 & 1 & 1\\\\\n",
       "\t2 & 0.7562054 & 1.756205 & 1 & 1\\\\\n",
       "\t3 & 2.339397 & 3.339397 & 1 & 1\\\\\n",
       "\t4 & 2.201936 & 3.201936 & 1 & 1\\\\\n",
       "\t5 & -0.8470117 & 0.1529883 & 1 & 0\\\\\n",
       "\t6 & 3.522555 & 4.522555 & 1 & 1\\\\\n",
       "\\end{tabular}\n"
      ],
      "text/plain": [
       "         y01       y11 d x\n",
       "1  2.4805395 3.4805395 1 1\n",
       "2  0.7562054 1.7562054 1 1\n",
       "3  2.3393968 3.3393968 1 1\n",
       "4  2.2019361 3.2019361 1 1\n",
       "5 -0.8470117 0.1529883 1 0\n",
       "6  3.5225549 4.5225549 1 1"
      ]
     },
     "execution_count": 74,
     "metadata": {},
     "output_type": "execute_result"
    },
    {
     "data": {
      "text/html": [
       "<table>\n",
       "<thead><tr><th></th><th scope=col>y02</th><th scope=col>y12</th><th scope=col>d</th><th scope=col>x</th></tr></thead>\n",
       "<tbody>\n",
       "\t<tr><th scope=row>1</th><td>2.847093</td><td>3.847093</td><td>1</td><td>1</td></tr>\n",
       "\t<tr><th scope=row>2</th><td>4.576914</td><td>5.576914</td><td>1</td><td>1</td></tr>\n",
       "\t<tr><th scope=row>3</th><td>4.055762</td><td>5.055762</td><td>1</td><td>1</td></tr>\n",
       "\t<tr><th scope=row>4</th><td>2.758067</td><td>3.758067</td><td>1</td><td>1</td></tr>\n",
       "\t<tr><th scope=row>5</th><td>2.19761</td><td>3.19761</td><td>1</td><td>0</td></tr>\n",
       "\t<tr><th scope=row>6</th><td>2.774859</td><td>3.774859</td><td>1</td><td>1</td></tr>\n",
       "</tbody>\n",
       "</table>\n"
      ],
      "text/latex": [
       "\\begin{tabular}{r|llll}\n",
       "  & y02 & y12 & d & x\\\\\n",
       "\\hline\n",
       "\t1 & 2.847093 & 3.847093 & 1 & 1\\\\\n",
       "\t2 & 4.576914 & 5.576914 & 1 & 1\\\\\n",
       "\t3 & 4.055762 & 5.055762 & 1 & 1\\\\\n",
       "\t4 & 2.758067 & 3.758067 & 1 & 1\\\\\n",
       "\t5 & 2.19761 & 3.19761 & 1 & 0\\\\\n",
       "\t6 & 2.774859 & 3.774859 & 1 & 1\\\\\n",
       "\\end{tabular}\n"
      ],
      "text/plain": [
       "       y02      y12 d x\n",
       "1 2.847093 3.847093 1 1\n",
       "2 4.576914 5.576914 1 1\n",
       "3 4.055762 5.055762 1 1\n",
       "4 2.758067 3.758067 1 1\n",
       "5 2.197610 3.197610 1 0\n",
       "6 2.774859 3.774859 1 1"
      ]
     },
     "execution_count": 74,
     "metadata": {},
     "output_type": "execute_result"
    }
   ],
   "source": [
    "    #data set\n",
    "df_1 = data.frame(y01,y11, d, x)\n",
    "df_2 = data.frame(y02,y12, d, x)\n",
    "head(df_1)\n",
    "head(df_2)"
   ]
  },
  {
   "cell_type": "code",
   "execution_count": 75,
   "metadata": {
    "collapsed": false
   },
   "outputs": [
    {
     "data": {
      "text/html": [
       "<table>\n",
       "<thead><tr><th scope=col>y0</th><th scope=col>y1</th><th scope=col>d</th><th scope=col>x</th></tr></thead>\n",
       "<tbody>\n",
       "\t<tr><td>2.847093</td><td>3.847093</td><td>1.000000</td><td>1.000000</td></tr>\n",
       "\t<tr><td>4.576914</td><td>5.576914</td><td>1.000000</td><td>1.000000</td></tr>\n",
       "\t<tr><td>4.055762</td><td>5.055762</td><td>1.000000</td><td>1.000000</td></tr>\n",
       "\t<tr><td>2.758067</td><td>3.758067</td><td>1.000000</td><td>1.000000</td></tr>\n",
       "\t<tr><td>2.19761</td><td>3.19761</td><td>1.00000</td><td>0.00000</td></tr>\n",
       "\t<tr><td>2.774859</td><td>3.774859</td><td>1.000000</td><td>1.000000</td></tr>\n",
       "</tbody>\n",
       "</table>\n"
      ],
      "text/latex": [
       "\\begin{tabular}{llll}\n",
       " y0 & y1 & d & x\\\\\n",
       "\\hline\n",
       "\t 2.847093 & 3.847093 & 1.000000 & 1.000000\\\\\n",
       "\t 4.576914 & 5.576914 & 1.000000 & 1.000000\\\\\n",
       "\t 4.055762 & 5.055762 & 1.000000 & 1.000000\\\\\n",
       "\t 2.758067 & 3.758067 & 1.000000 & 1.000000\\\\\n",
       "\t 2.19761 & 3.19761 & 1.00000 & 0.00000\\\\\n",
       "\t 2.774859 & 3.774859 & 1.000000 & 1.000000\\\\\n",
       "\\end{tabular}\n"
      ],
      "text/markdown": [
       "1. 2.84709349021639\n",
       "2. 4.57691393194107\n",
       "3. 4.05576223181812\n",
       "4. 2.75806711014329\n",
       "5. 2.197609930271\n",
       "6. 2.77485859982806\n",
       "7. 3.84709349021639\n",
       "8. 5.57691393194107\n",
       "9. 5.05576223181812\n",
       "10. 3.75806711014329\n",
       "11. 3.197609930271\n",
       "12. 3.77485859982806\n",
       "13. 1\n",
       "14. 1\n",
       "15. 1\n",
       "16. 1\n",
       "17. 1\n",
       "18. 1\n",
       "19. 1\n",
       "20. 1\n",
       "21. 1\n",
       "22. 1\n",
       "23. 0\n",
       "24. 1\n",
       "\n",
       "\n"
      ],
      "text/plain": [
       "           y0       y1 d x\n",
       "[1,] 2.847093 3.847093 1 1\n",
       "[2,] 4.576914 5.576914 1 1\n",
       "[3,] 4.055762 5.055762 1 1\n",
       "[4,] 2.758067 3.758067 1 1\n",
       "[5,] 2.197610 3.197610 1 0\n",
       "[6,] 2.774859 3.774859 1 1"
      ]
     },
     "execution_count": 75,
     "metadata": {},
     "output_type": "execute_result"
    }
   ],
   "source": [
    "#Matching method\n",
    "df_int = t(cbind(t(df_2),t(df_1)))\n",
    "\n",
    "colnames(df_int) <- c(\"y0\",\"y1\",\"d\",\"x\")\n",
    "head(df_int)"
   ]
  },
  {
   "cell_type": "code",
   "execution_count": 76,
   "metadata": {
    "collapsed": false
   },
   "outputs": [
    {
     "data": {
      "text/html": [
       "<table>\n",
       "<thead><tr><th></th><th scope=col>y0</th><th scope=col>y1</th><th scope=col>d</th><th scope=col>x</th></tr></thead>\n",
       "<tbody>\n",
       "\t<tr><th scope=row>1</th><td>2.847093</td><td>3.847093</td><td>1</td><td>1</td></tr>\n",
       "\t<tr><th scope=row>2</th><td>4.576914</td><td>5.576914</td><td>1</td><td>1</td></tr>\n",
       "\t<tr><th scope=row>3</th><td>4.055762</td><td>5.055762</td><td>1</td><td>1</td></tr>\n",
       "\t<tr><th scope=row>4</th><td>2.758067</td><td>3.758067</td><td>1</td><td>1</td></tr>\n",
       "\t<tr><th scope=row>5</th><td>2.19761</td><td>3.19761</td><td>1</td><td>0</td></tr>\n",
       "\t<tr><th scope=row>6</th><td>2.774859</td><td>3.774859</td><td>1</td><td>1</td></tr>\n",
       "</tbody>\n",
       "</table>\n"
      ],
      "text/latex": [
       "\\begin{tabular}{r|llll}\n",
       "  & y0 & y1 & d & x\\\\\n",
       "\\hline\n",
       "\t1 & 2.847093 & 3.847093 & 1 & 1\\\\\n",
       "\t2 & 4.576914 & 5.576914 & 1 & 1\\\\\n",
       "\t3 & 4.055762 & 5.055762 & 1 & 1\\\\\n",
       "\t4 & 2.758067 & 3.758067 & 1 & 1\\\\\n",
       "\t5 & 2.19761 & 3.19761 & 1 & 0\\\\\n",
       "\t6 & 2.774859 & 3.774859 & 1 & 1\\\\\n",
       "\\end{tabular}\n"
      ],
      "text/plain": [
       "        y0       y1 d x\n",
       "1 2.847093 3.847093 1 1\n",
       "2 4.576914 5.576914 1 1\n",
       "3 4.055762 5.055762 1 1\n",
       "4 2.758067 3.758067 1 1\n",
       "5 2.197610 3.197610 1 0\n",
       "6 2.774859 3.774859 1 1"
      ]
     },
     "execution_count": 76,
     "metadata": {},
     "output_type": "execute_result"
    },
    {
     "data": {
      "text/html": [
       "2.10430230683837"
      ],
      "text/latex": [
       "2.10430230683837"
      ],
      "text/markdown": [
       "2.10430230683837"
      ],
      "text/plain": [
       "[1] 2.104302"
      ]
     },
     "execution_count": 76,
     "metadata": {},
     "output_type": "execute_result"
    },
    {
     "data": {
      "text/html": [
       "3.10430230683837"
      ],
      "text/latex": [
       "3.10430230683837"
      ],
      "text/markdown": [
       "3.10430230683837"
      ],
      "text/plain": [
       "[1] 3.104302"
      ]
     },
     "execution_count": 76,
     "metadata": {},
     "output_type": "execute_result"
    }
   ],
   "source": [
    "df_int2 = as.data.frame(subset(df_int, d==1 , c(y0, y1,d,x)))\n",
    "# df_int3 = as.data.frame(subset(df_int, d==1 , c(y0, y1,d,x)))\n",
    "head(df_int2)\n",
    "mean(df_int2$y0)\n",
    "#\n",
    "mean(df_int2$y1)"
   ]
  },
  {
   "cell_type": "markdown",
   "metadata": {},
   "source": [
    "**Obviously the two vallues above are different.**"
   ]
  },
  {
   "cell_type": "code",
   "execution_count": 77,
   "metadata": {
    "collapsed": false
   },
   "outputs": [
    {
     "data": {
      "text/html": [
       "1.09034693093244"
      ],
      "text/latex": [
       "1.09034693093244"
      ],
      "text/markdown": [
       "1.09034693093244"
      ],
      "text/plain": [
       "[1] 1.090347"
      ]
     },
     "execution_count": 77,
     "metadata": {},
     "output_type": "execute_result"
    },
    {
     "data": {
      "text/html": [
       "1.00817102726231"
      ],
      "text/latex": [
       "1.00817102726231"
      ],
      "text/markdown": [
       "1.00817102726231"
      ],
      "text/plain": [
       "[1] 1.008171"
      ]
     },
     "execution_count": 77,
     "metadata": {},
     "output_type": "execute_result"
    }
   ],
   "source": [
    "#Difference in diiferences\n",
    "df_10 = subset(df_1, d==0 )\n",
    "df_20 = subset(df_2, d==0 )\n",
    "df_11 = subset(df_1, d==1 )\n",
    "df_21 = subset(df_2, d==1)\n",
    "mean(df_20$y02 - df_10$y01)\n",
    "mean(df_21$y02 - df_11$y01)"
   ]
  },
  {
   "cell_type": "markdown",
   "metadata": {},
   "source": [
    "**Obviously the two vallues above are almost same.**"
   ]
  },
  {
   "cell_type": "code",
   "execution_count": null,
   "metadata": {
    "collapsed": true
   },
   "outputs": [],
   "source": []
  }
 ],
 "metadata": {
  "kernelspec": {
   "display_name": "R",
   "language": "R",
   "name": "ir"
  },
  "language_info": {
   "codemirror_mode": "r",
   "file_extension": ".r",
   "mimetype": "text/x-r-source",
   "name": "R",
   "pygments_lexer": "r",
   "version": "3.2.2"
  }
 },
 "nbformat": 4,
 "nbformat_minor": 0
}
